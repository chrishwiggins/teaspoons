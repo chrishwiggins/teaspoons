{
 "cells": [
  {
   "cell_type": "markdown",
   "metadata": {
    "slideshow": {
     "slide_type": "slide"
    }
   },
   "source": [
    "# The Travelling Salesman Problem\n",
    "## Colin Valentini & Su Hang\n",
    "### November 11,  2016"
   ]
  },
  {
   "cell_type": "markdown",
   "metadata": {
    "slideshow": {
     "slide_type": "slide"
    }
   },
   "source": [
    "## Outline\n",
    "\n",
    "- What is the Travelling Salesman Problem (TSP)?\n",
    "- Why do we care? & Applications\n",
    "- References/Resources\n",
    "- Current solutions & heuristics\n",
    "- *The Simplex Algorithm\n",
    "- *Machine Learning Applications to the TSP\n",
    "- Run time analysis\n",
    "- Code demo (maybe?)\n",
    "- The future"
   ]
  },
  {
   "cell_type": "markdown",
   "metadata": {
    "slideshow": {
     "slide_type": "slide"
    }
   },
   "source": [
    "## What is the Travelling Salesman Problem?"
   ]
  },
  {
   "cell_type": "markdown",
   "metadata": {},
   "source": [
    "### In English\n",
    "\n",
    "#### Problem Definition\n",
    "\n",
    "#### Variants\n",
    "\n",
    "#### Why do we care?\n",
    "$$\n",
    "P \\overset{?}{=} NP\n",
    "$$\n",
    "\n",
    "#### Applications"
   ]
  },
  {
   "cell_type": "markdown",
   "metadata": {
    "slideshow": {
     "slide_type": "subslide"
    }
   },
   "source": [
    "### In Math\n",
    "\n",
    "$$\n",
    "\\begin{align}\n",
    "\\min~               & \\sum_{i=0}^n \\sum_{\\substack{j = 1 \\\\ i \\neq j}}^n c_{ij} x_{ij} \\\\\n",
    "\\text{subject to }~ & 0 \\leq x_{ij} \\leq 1 &i, j \\in \\mathbb{N}_1^n \\\\\n",
    "                    & \\sum{\\substack{i = 0 \\\\ i \\neq j}}^n x_{ij} = 1 \\\\\n",
    "                    & \\sum{\\substack{j = 0 \\\\ i \\neq j}}^n x_{ij} = 1 \\\\\n",
    "                    & t_i - t_j + n x_{ij} \\leq n - 1 &i, j \\in \\mathbb{N}_1^n, i \\neq j, t \\in \\mathbb{N}\n",
    "\\end{align}\n",
    "$$\n",
    "where\n",
    "$$\n",
    "\\begin{align}\n",
    "x_{ij} &= \\begin{cases} 1 & \\text{if the tour contains the path leading from city } i \\text{ to city } j \\\\ 0 & \\text{otherwise} \\end{cases} \\\\\n",
    "c_{ij} &\\text{ is the cost associated with travelling from city $i$ to city $j$} \\\\\n",
    "t_i &\\text{ is the time at which city } i \\text{ is visited}\n",
    "\\end{align}\n",
    "$$"
   ]
  },
  {
   "cell_type": "markdown",
   "metadata": {},
   "source": [
    "## References & Resources\n",
    "\n",
    "- http://link.springer.com/chapter/10.1007/978-3-642-44973-4_40\n"
   ]
  },
  {
   "cell_type": "markdown",
   "metadata": {},
   "source": [
    "## The Lin-Kernighan Heuristic\n",
    "\n",
    "(optional fun facts? Brian Kernighan also co-authored The C Programming Language Manual, and co-created the AWK programming language with Prof. Alfred Aho of Columbia CS Theory fame)"
   ]
  },
  {
   "cell_type": "markdown",
   "metadata": {},
   "source": [
    "## Identifying Key Algorithm Parameters and Instance Features with Forward Selection"
   ]
  },
  {
   "cell_type": "markdown",
   "metadata": {},
   "source": [
    "## Code Demo"
   ]
  },
  {
   "cell_type": "markdown",
   "metadata": {},
   "source": [
    "## The Future"
   ]
  },
  {
   "cell_type": "markdown",
   "metadata": {},
   "source": [
    "# Questions?"
   ]
  }
 ],
 "metadata": {
  "anaconda-cloud": {},
  "celltoolbar": "Slideshow",
  "kernelspec": {
   "display_name": "Python [conda root]",
   "language": "python",
   "name": "conda-root-py"
  },
  "language_info": {
   "codemirror_mode": {
    "name": "ipython",
    "version": 2
   },
   "file_extension": ".py",
   "mimetype": "text/x-python",
   "name": "python",
   "nbconvert_exporter": "python",
   "pygments_lexer": "ipython2",
   "version": "2.7.12"
  }
 },
 "nbformat": 4,
 "nbformat_minor": 1
}
