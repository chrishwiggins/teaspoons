{
 "cells": [
  {
   "cell_type": "code",
   "execution_count": 93,
   "metadata": {
    "collapsed": false
   },
   "outputs": [],
   "source": [
    "import numpy as np\n",
    "import matplotlib.pyplot as plt\n",
    "from scipy.stats import kendalltau\n",
    "% matplotlib notebook\n",
    "plt.style.use(['ggplot','seaborn-poster'])"
   ]
  },
  {
   "cell_type": "markdown",
   "metadata": {},
   "source": [
    "Let us set $\\delta$ to be one for all paths (i.e. all arms start the same)\n",
    "\n",
    "Then $\\beta$ is redundant, and `psi(a,b) == tau[a,b]`; we'll just use `tau` for speed."
   ]
  },
  {
   "cell_type": "markdown",
   "metadata": {},
   "source": [
    "# Set parameters"
   ]
  },
  {
   "cell_type": "markdown",
   "metadata": {},
   "source": [
    "## MAB"
   ]
  },
  {
   "cell_type": "code",
   "execution_count": 78,
   "metadata": {
    "collapsed": true
   },
   "outputs": [],
   "source": [
    "ARMS = 10\n",
    "THETAS_TRUE = np.random.uniform(size=ARMS)"
   ]
  },
  {
   "cell_type": "markdown",
   "metadata": {},
   "source": [
    "## ACS"
   ]
  },
  {
   "cell_type": "code",
   "execution_count": 94,
   "metadata": {
    "collapsed": true
   },
   "outputs": [],
   "source": [
    "ITERATIONS = 100\n",
    "ANTS = 100\n",
    "Q_0 = 0.9\n",
    "RHO = 0.1\n",
    "ALPHA = 0.1\n",
    "TAU_0 = 1.0 / ( ARMS * ( ARMS - 1 ) )"
   ]
  },
  {
   "cell_type": "markdown",
   "metadata": {},
   "source": [
    "# Definitions"
   ]
  },
  {
   "cell_type": "code",
   "execution_count": 83,
   "metadata": {
    "collapsed": true
   },
   "outputs": [],
   "source": [
    "def go_to_next_city(ant):\n",
    "    \n",
    "    q = np.random.uniform()\n",
    "    unvisited_cities = np.where(Us[ant,:])[0]\n",
    "    current_position = xs[ant]\n",
    "    feasible_taus = taus[current_position, unvisited_cities]\n",
    "    \n",
    "    # choose next city\n",
    "    if q < Q_0: # deterministic exploitation\n",
    "        x_new = feasible_taus.argmax()\n",
    "    else: # stochastic exploration\n",
    "        x_new = np.random.choice(unvisited_cities, p=feasible_taus / feasible_taus.sum())\n",
    "        \n",
    "    # do local update\n",
    "    # pull the arm (corresponds to next city)\n",
    "    reward = np.random.binomial(1, THETAS_TRUE[x_new])\n",
    "    # local update rule\n",
    "    taus[current_position, x_new] = (1 - RHO) * taus[current_position, x_new] + RHO * reward\n",
    "    \n",
    "    # clean up\n",
    "    xs[ant] = x_new\n",
    "    Us[ant, x_new] = 0"
   ]
  },
  {
   "cell_type": "markdown",
   "metadata": {},
   "source": [
    "# Run ze simulations"
   ]
  },
  {
   "cell_type": "code",
   "execution_count": 97,
   "metadata": {
    "collapsed": false
   },
   "outputs": [],
   "source": [
    "taus = TAU_0 * np.ones([ARMS, ARMS])\n",
    "for iteration in xrange(ITERATIONS):\n",
    "    xs = np.random.choice(xrange(ARMS), size=ANTS)\n",
    "    Us = np.ones([ANTS, ARMS])\n",
    "    # remove all cities the ants are starting from\n",
    "    Us[xrange(ANTS),xs] = 0\n",
    "    for step in xrange(ARMS - 1):\n",
    "        for ant in xrange(ANTS):\n",
    "            go_to_next_city(ant)"
   ]
  },
  {
   "cell_type": "code",
   "execution_count": 98,
   "metadata": {
    "collapsed": false
   },
   "outputs": [
    {
     "data": {
      "text/plain": [
       "KendalltauResult(correlation=0.86666666666666659, pvalue=0.00048616424374551593)"
      ]
     },
     "execution_count": 98,
     "metadata": {},
     "output_type": "execute_result"
    }
   ],
   "source": [
    "kendalltau(taus.sum(axis=0), THETAS_TRUE)"
   ]
  },
  {
   "cell_type": "code",
   "execution_count": 99,
   "metadata": {
    "collapsed": false
   },
   "outputs": [
    {
     "data": {
      "text/plain": [
       "7"
      ]
     },
     "execution_count": 99,
     "metadata": {},
     "output_type": "execute_result"
    }
   ],
   "source": [
    "taus.sum(axis=0).argmax()"
   ]
  },
  {
   "cell_type": "code",
   "execution_count": 100,
   "metadata": {
    "collapsed": false
   },
   "outputs": [
    {
     "data": {
      "text/plain": [
       "7"
      ]
     },
     "execution_count": 100,
     "metadata": {},
     "output_type": "execute_result"
    }
   ],
   "source": [
    "THETAS_TRUE.argmax()"
   ]
  }
 ],
 "metadata": {
  "kernelspec": {
   "display_name": "Python [conda root]",
   "language": "python",
   "name": "conda-root-py"
  },
  "language_info": {
   "codemirror_mode": {
    "name": "ipython",
    "version": 2
   },
   "file_extension": ".py",
   "mimetype": "text/x-python",
   "name": "python",
   "nbconvert_exporter": "python",
   "pygments_lexer": "ipython2",
   "version": "2.7.12"
  }
 },
 "nbformat": 4,
 "nbformat_minor": 1
}
